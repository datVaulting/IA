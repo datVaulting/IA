{
 "cells": [
  {
   "cell_type": "markdown",
   "metadata": {},
   "source": [
    "# Deep Learning Playlist"
   ]
  },
  {
   "cell_type": "markdown",
   "metadata": {},
   "source": [
    "### Discussion"
   ]
  },
  {
   "cell_type": "markdown",
   "metadata": {},
   "source": [
    "Deep learning terms and topics\n",
    "* Understanding what they mean\n",
    "* How they fit in to the overall deep learning framework\n",
    "* How certain topics are implemented in code\n",
    "    * Using Keras"
   ]
  },
  {
   "cell_type": "markdown",
   "metadata": {},
   "source": [
    "## Machine Learning (ML)"
   ]
  },
  {
   "cell_type": "markdown",
   "metadata": {},
   "source": [
    "Machine Learning is the practice of using algorithms to analyze data, learn from that data, and then make a determination or prediction about new data."
   ]
  },
  {
   "cell_type": "markdown",
   "metadata": {},
   "source": [
    "### Machine Learning vs. Traditional Programming"
   ]
  },
  {
   "cell_type": "markdown",
   "metadata": {},
   "source": [
    "Example: Analyzing the sentiment of a popular media outlet and classifying that sentiment as positive or negative\n",
    "* Traditional Programming approach\n",
    "    * The algorithm may first look for particular words associated with a negative or positive sentiment.\n",
    "    * With conditional statements, the algorithm would classify articles as positives or negatives based on the words that it knows are positive or negative.\n",
    "* Machine Learning approach\n",
    "    * The algorithm would analyze large amount of given media data and learn the features that classify what a negative article looks like versus a positive article.\n",
    "    * With what it has learned, the algorithm could then classify new articles as positive or negative."
   ]
  },
  {
   "cell_type": "markdown",
   "metadata": {},
   "source": [
    "## Deep Learning (DL)"
   ]
  },
  {
   "cell_type": "markdown",
   "metadata": {},
   "source": [
    "This section covers the most basic idea about what deep learning is and how it's used. More detailled concepts, terms and tools will be covered within the filed of deep learning.\n",
    "\n",
    "**Definition**\n",
    "* Deep learning is a subfield of machine learning that uses algorithms inspired by the structure and function of the brain neural network.\n",
    "* As a subfield of ML, DL is also algorithms that analyze data, learn from that data and then make a determination or prediction about new data.\n"
   ]
  },
  {
   "cell_type": "markdown",
   "metadata": {},
   "source": [
    "**Supervised Learning** occurs when your deep learning model learns and make inferences from data that has _already been labeled_."
   ]
  },
  {
   "cell_type": "markdown",
   "metadata": {},
   "source": [
    "**Unsupervised Learning** occurs when the modellearns and makes inferences from _unlabelled_ data."
   ]
  },
  {
   "cell_type": "markdown",
   "metadata": {},
   "source": [
    "**Labeled vs. Unlabeled example**\n",
    "* Classify images of cats and dogs"
   ]
  },
  {
   "cell_type": "markdown",
   "metadata": {},
   "source": [
    "## Artificial Neural Networks (ANNs)"
   ]
  },
  {
   "cell_type": "markdown",
   "metadata": {},
   "source": [
    "Artificial neural networks are deep learning models that are based on the structure of the brain's neural networks.\n",
    "* Artificial neural networks are used interchangeably with the terms\n",
    "    * Neural net\n",
    "    * Net\n",
    "    * Model\n",
    "* These networks are based on a collection of connected units called **artificial neuron**, or **neurons**.\n",
    "* Each connection between neurons can transmit a signal from one neuron to another.\n",
    "* The receiving neuron process the signal and signals downstream neurons connected to it.\n",
    "* Neurons are organized in layers\n",
    "    * Input layer\n",
    "    * Hidden layers\n",
    "    * Output layer   "
   ]
  },
  {
   "cell_type": "markdown",
   "metadata": {},
   "source": [
    "## Keras Senquential Model"
   ]
  },
  {
   "cell_type": "markdown",
   "metadata": {},
   "source": [
    "The Sequential model is a linear stack of layers."
   ]
  },
  {
   "cell_type": "markdown",
   "metadata": {},
   "source": [
    "## Layers in an ANN"
   ]
  },
  {
   "cell_type": "markdown",
   "metadata": {},
   "source": [
    "Artificial neural networks are typically organized in layers. Different types of layers include:\n",
    "* Dense (or fully connected) Layers\n",
    "* Convolutional Layers\n",
    "* Pooling Layers\n",
    "* Recurrent Layers\n",
    "* Normalization Layers\n",
    "* Many others ..."
   ]
  },
  {
   "cell_type": "code",
   "execution_count": 4,
   "metadata": {},
   "outputs": [],
   "source": [
    "from keras.models import Sequential\n",
    "from keras.layers import Dense, Activation\n",
    "\n",
    "model = Sequential([\n",
    "    Dense(5, input_shape=(3,), activation='relu'),\n",
    "    Dense(2, activation='softmax'),\n",
    "])"
   ]
  },
  {
   "cell_type": "code",
   "execution_count": 7,
   "metadata": {},
   "outputs": [
    {
     "data": {
      "text/plain": [
       "(3,)"
      ]
     },
     "execution_count": 7,
     "metadata": {},
     "output_type": "execute_result"
    }
   ],
   "source": [
    "import numpy as np\n",
    "\n",
    "a = np.array([0,0,1])\n",
    "a.shape"
   ]
  },
  {
   "cell_type": "code",
   "execution_count": 15,
   "metadata": {},
   "outputs": [
    {
     "data": {
      "text/plain": [
       "<matplotlib.image.AxesImage at 0x24501503888>"
      ]
     },
     "execution_count": 15,
     "metadata": {},
     "output_type": "execute_result"
    },
    {
     "data": {
      "image/png": "[encoded data removed]",
      "text/plain": [
       "<Figure size 432x288 with 1 Axes>"
      ]
     },
     "metadata": {
      "needs_background": "light"
     },
     "output_type": "display_data"
    }
   ],
   "source": [
    "import imageio\n",
    "import matplotlib.pyplot as plt\n",
    "%matplotlib inline\n",
    "\n",
    "img = np.expand_dims(imageio.imread('NN.PNG'),0)\n",
    "plt.imshow(img[0])"
   ]
  },
  {
   "cell_type": "markdown",
   "metadata": {},
   "source": [
    "## Activation Functions"
   ]
  },
  {
   "cell_type": "markdown",
   "metadata": {},
   "source": [
    "In an artifician neural network, the activation function of a neuron defines the output of that neuron given a set of inputs.\n",
    "* Biologically inspired by activity in our brains, where different neurons fire, or are _activated_, by different stimuli."
   ]
  },
  {
   "cell_type": "code",
   "execution_count": null,
   "metadata": {},
   "outputs": [],
   "source": [
    "from keras.models import Sequential\n",
    "from keras.layers import Dense, Activation\n",
    "\n",
    "model = Sequential([\n",
    "    Dense(5, input_shape=(3,), activation='relu')\n",
    "])"
   ]
  },
  {
   "cell_type": "code",
   "execution_count": null,
   "metadata": {},
   "outputs": [],
   "source": [
    "model = Sequential()\n",
    "model.add(Dense(5, input_shape=(3,)))\n",
    "model.add(Sctiviation('relu'))"
   ]
  },
  {
   "cell_type": "markdown",
   "metadata": {},
   "source": [
    "## Training"
   ]
  },
  {
   "cell_type": "markdown",
   "metadata": {},
   "source": [
    "Solving an optimization problem\n",
    "* Optimizing weights\n",
    "    * with Stochastic Gradient Descent (SGD). On the example bellow we are using the optimizer 'Adam' which is a variation of SGD.\n",
    "* Objective: Minimize the loss function\n"
   ]
  },
  {
   "cell_type": "markdown",
   "metadata": {},
   "source": [
    "## Learning"
   ]
  },
  {
   "cell_type": "code",
   "execution_count": 2,
   "metadata": {},
   "outputs": [],
   "source": [
    "import keras\n",
    "from keras import backend as K\n",
    "from keras.models import Sequential\n",
    "from keras.layers import Activation\n",
    "from keras.layers.core import Dense\n",
    "from keras.optimizers import Adam\n",
    "from keras.metrics import categorical_crossentropy"
   ]
  },
  {
   "cell_type": "code",
   "execution_count": 4,
   "metadata": {},
   "outputs": [],
   "source": [
    "model = Sequential([\n",
    "    Dense(16, input_shape=(1,), activation='relu'),\n",
    "    Dense(32, activation='relu'),\n",
    "    Dense(2, activation='softmax'),\n",
    "])"
   ]
  },
  {
   "cell_type": "code",
   "execution_count": null,
   "metadata": {},
   "outputs": [],
   "source": [
    "model.compile(Adam(lr=.0001), loss='sparse_categorical_crossentropy', metrics=['accuracy'])"
   ]
  },
  {
   "cell_type": "code",
   "execution_count": null,
   "metadata": {},
   "outputs": [],
   "source": [
    "model.fit(scaled_train_samples, train_labels, batch_size=10, epochs=20, shuffle=True, verbose=2)"
   ]
  },
  {
   "cell_type": "markdown",
   "metadata": {},
   "source": [
    "## Validating"
   ]
  },
  {
   "cell_type": "markdown",
   "metadata": {},
   "source": [
    "The validation is optional. It is used to verify that with data on which the model hasn't been trained can still be classified correctly.\n",
    "\n",
    "If the validation loss and accuracy are way worste than for the test dataset. This means the model has been overfitted.\n",
    "\n",
    "We can either pass a complete new dataset to the model or use a given proportion of the test dataset that will only be used for validation."
   ]
  },
  {
   "cell_type": "code",
   "execution_count": null,
   "metadata": {},
   "outputs": [],
   "source": [
    "# This will use 20% of the dataset as validation set, else give a np array for specific dataset.\n",
    "model.fit(scaled_train_samples, train_labels, validation_split=0.20, batch_size=10, epochs=20, shuffle=True, verbose=2)"
   ]
  },
  {
   "cell_type": "markdown",
   "metadata": {},
   "source": [
    "## Predict"
   ]
  },
  {
   "cell_type": "code",
   "execution_count": null,
   "metadata": {},
   "outputs": [],
   "source": [
    "predictions = model.predict(scaled_test_samples, batch_size=10, verbose=0)"
   ]
  },
  {
   "cell_type": "code",
   "execution_count": null,
   "metadata": {},
   "outputs": [],
   "source": [
    "for i in predictions:\n",
    "    print(i)"
   ]
  },
  {
   "cell_type": "markdown",
   "metadata": {},
   "source": [
    "## Overfitting"
   ]
  },
  {
   "cell_type": "markdown",
   "metadata": {},
   "source": [
    "We say that a model is overfitted when it perfoms very well on the traning dataset but poorly on the validating dataset. To avoid this there are multiple possibilities:\n",
    "* Adding mode data to the training dataset\n",
    "* When mentioned above is not possible, use data augmentation -> edit some data to increase diversity (e.g. if all photos shows dogs going to the right, flip some so that they go to the left)\n",
    "* Reducing complexity of the ANN (reducing number of nodes or layers)\n",
    "* Use the dropout technic -> this will dropout some nodes during testing so that other nodes have to learn new features themself"
   ]
  },
  {
   "cell_type": "markdown",
   "metadata": {},
   "source": [
    "## Underfitting"
   ]
  },
  {
   "cell_type": "markdown",
   "metadata": {},
   "source": [
    "We say that a model is underfitted when it perfoms poorly even on the training dataset. To avoid this there are multiple possibilities:\n",
    "* Adding more features to the training dataset\n",
    "* Increase complexity of the ANN (increasing number of nodes or layers)\n",
    "* Reduce dropout"
   ]
  },
  {
   "cell_type": "markdown",
   "metadata": {},
   "source": [
    "## Supervised Learning"
   ]
  },
  {
   "cell_type": "markdown",
   "metadata": {},
   "source": [
    "Train and Validate data are labeled."
   ]
  },
  {
   "cell_type": "code",
   "execution_count": 1,
   "metadata": {},
   "outputs": [
    {
     "name": "stderr",
     "output_type": "stream",
     "text": [
      "Using TensorFlow backend.\n"
     ]
    }
   ],
   "source": [
    "import keras\n",
    "from keras import backend as K\n",
    "from keras.models import Sequential\n",
    "from keras.layers import Activation\n",
    "from keras.layers.core import Dense\n",
    "from keras.optimizers import Adam"
   ]
  },
  {
   "cell_type": "code",
   "execution_count": 2,
   "metadata": {},
   "outputs": [],
   "source": [
    "model = Sequential([\n",
    "    Dense(16, input_shape=(1,), activation='relu'),\n",
    "    Dense(32, activation='relu'),\n",
    "    Dense(2, activation='sigmoid')\n",
    "])"
   ]
  },
  {
   "cell_type": "code",
   "execution_count": 3,
   "metadata": {},
   "outputs": [],
   "source": [
    "model.compile(Adam(lr=.0001), loss='sparse_categorical_crossentropy', metrics=['accuracy'])"
   ]
  },
  {
   "cell_type": "code",
   "execution_count": 4,
   "metadata": {},
   "outputs": [],
   "source": [
    "# weight, height\n",
    "train_samples = [[150, 67], [130, 60], [200, 65], [125, 52], [230, 72], [181, 70]]"
   ]
  },
  {
   "cell_type": "code",
   "execution_count": 5,
   "metadata": {},
   "outputs": [],
   "source": [
    "# 0: male\n",
    "# 1: female\n",
    "train_labels = [1, 1, 0, 1, 1, 0]"
   ]
  },
  {
   "cell_type": "code",
   "execution_count": null,
   "metadata": {},
   "outputs": [],
   "source": [
    "model.fit(x=train_samples, y=train_labels, batch_size=3, epochs=10, shuffle=true, verbose=2)"
   ]
  },
  {
   "cell_type": "markdown",
   "metadata": {},
   "source": [
    "## Unsupervised Learning"
   ]
  },
  {
   "cell_type": "markdown",
   "metadata": {},
   "source": [
    "Train dataset are unlabeled.\n",
    "\n",
    "The model will try to find some structure from the data and extract features from it. \n",
    "Accuracy is not a metric we can use for unsupervised learning.\n",
    "Unsupervised learning is used by clustering algorithm, autoencoders, ...\n",
    "\n",
    "_Autoencoders_ is an ANN that takes an input and outputs a reconstruction of this output. This is used for example to _denoise_ an image."
   ]
  },
  {
   "cell_type": "markdown",
   "metadata": {},
   "source": [
    "## Semi-supervised  Learning"
   ]
  },
  {
   "cell_type": "markdown",
   "metadata": {},
   "source": [
    "Some portion of the train dataset is labeled, the rest is unlabeled.\n",
    "\n",
    "First, we train a model on the labeled dataset until it performs well enougth. Then we predict the unlabeled daataset using out model assigning what we call a _psuedo-label_. Finally we train a model on the full dataset that is combining the labeled and the psuedo-labeled data."
   ]
  },
  {
   "cell_type": "markdown",
   "metadata": {},
   "source": [
    "## Data Augmentation"
   ]
  },
  {
   "cell_type": "markdown",
   "metadata": {},
   "source": [
    "It is the action of creating data based on an already existing data by applying a reasonable modification (image flip, rotate, crop, colors, ...). \n",
    "\n",
    "This is often used when having a dataset which is difficult to enlarge with new data or to reduce overfitting."
   ]
  },
  {
   "cell_type": "markdown",
   "metadata": {},
   "source": [
    "# One-hot Encodings"
   ]
  },
  {
   "cell_type": "markdown",
   "metadata": {},
   "source": [
    "Date labels are not used as strings. They are usualy numbers or vectors. One type of encoding that is widly used is One-hot encoding.\n",
    "\n",
    "_One-hot Encoding_ translforms labels into vectors of 0s and 1s. The length of these vectors is equal to the number of classes or category that ou model is espected to classify. For exmaple: cat or dot => [x, x]. If we add rabbit => [x, x, x].\n",
    "Each element of the vector is related to a class, this means, each cats will be labeled [1,0,0] and each dog [0,1,0]."
   ]
  },
  {
   "cell_type": "markdown",
   "metadata": {},
   "source": [
    "# Convolutional Neural Networks (CNNs)"
   ]
  },
  {
   "cell_type": "markdown",
   "metadata": {},
   "source": [
    "CNN are neural network mostly used for analysing images. Its hidden layers contains convolutional layers.\n",
    "\n",
    "Convolutional layers can detect patterns. For this we must define filters. The first filters are always simplier and detect basic forms (edge, circle, squares, ...). The more we progess in the network, the complexer it gets until it recognise specific features like dog faces, birds legs, ...\n",
    "\n",
    "The filters are built with matrix that are applied to each pixels of the image."
   ]
  },
  {
   "cell_type": "markdown",
   "metadata": {},
   "source": [
    "## Zero Padding"
   ]
  },
  {
   "cell_type": "markdown",
   "metadata": {},
   "source": [
    "Applying convolution to an image of 28x28 with a matrix of 3x3. The convolution cannot be made on the two last rows and column, therefore the result will be 26x26.\n",
    "\n",
    "This can be an issue in most cases. This is where Zero Padding is used.\n",
    "In our example, zero padding will add one row and column on each side of the image so that the resulting image is of same size than the input.\n",
    "The number of rows and columns added depends of course on the matrix size.\n",
    "\n",
    "There are two kind of padding:\n",
    "* \"valid\" -> no padding at all -> size will not be maintaines\n",
    "* \"same\" -> applies the padding before applying the filter -> size will be maintained"
   ]
  },
  {
   "cell_type": "code",
   "execution_count": 6,
   "metadata": {},
   "outputs": [],
   "source": [
    "import keras\n",
    "from keras.models import Sequential\n",
    "from keras.layers import Activation\n",
    "from keras.layers.core import Dense, Flatten\n",
    "from keras.layers.convolutional import *"
   ]
  },
  {
   "cell_type": "code",
   "execution_count": 7,
   "metadata": {},
   "outputs": [],
   "source": [
    "model_valid = Sequential([\n",
    "    Dense(16, activation='relu', input_shape=(20,20,3)),\n",
    "    Conv2D(32, kernel_size=(3, 3), activation='relu', padding='valid'),\n",
    "    Conv2D(64, kernel_size=(5, 5), activation='relu', padding='valid'),\n",
    "    Conv2D(128, kernel_size=(7, 7), activation='relu', padding='valid'),\n",
    "    Flatten(),\n",
    "    Dense(2, activation='softmax'),\n",
    "])"
   ]
  },
  {
   "cell_type": "code",
   "execution_count": 8,
   "metadata": {},
   "outputs": [
    {
     "name": "stdout",
     "output_type": "stream",
     "text": [
      "Model: \"sequential_2\"\n",
      "_________________________________________________________________\n",
      "Layer (type)                 Output Shape              Param #   \n",
      "=================================================================\n",
      "dense_4 (Dense)              (None, 20, 20, 16)        64        \n",
      "_________________________________________________________________\n",
      "conv2d_1 (Conv2D)            (None, 18, 18, 32)        4640      \n",
      "_________________________________________________________________\n",
      "conv2d_2 (Conv2D)            (None, 14, 14, 64)        51264     \n",
      "_________________________________________________________________\n",
      "conv2d_3 (Conv2D)            (None, 8, 8, 128)         401536    \n",
      "_________________________________________________________________\n",
      "flatten_1 (Flatten)          (None, 8192)              0         \n",
      "_________________________________________________________________\n",
      "dense_5 (Dense)              (None, 2)                 16386     \n",
      "=================================================================\n",
      "Total params: 473,890\n",
      "Trainable params: 473,890\n",
      "Non-trainable params: 0\n",
      "_________________________________________________________________\n"
     ]
    }
   ],
   "source": [
    "model_valid.summary()"
   ]
  },
  {
   "cell_type": "code",
   "execution_count": 9,
   "metadata": {},
   "outputs": [],
   "source": [
    "model_valid = Sequential([\n",
    "    Dense(16, activation='relu', input_shape=(20,20,3)),\n",
    "    Conv2D(32, kernel_size=(3, 3), activation='relu', padding='same'),\n",
    "    Conv2D(64, kernel_size=(5, 5), activation='relu', padding='same'),\n",
    "    Conv2D(128, kernel_size=(7, 7), activation='relu', padding='same'),\n",
    "    Flatten(),\n",
    "    Dense(2, activation='softmax'),\n",
    "])"
   ]
  },
  {
   "cell_type": "code",
   "execution_count": 10,
   "metadata": {},
   "outputs": [
    {
     "name": "stdout",
     "output_type": "stream",
     "text": [
      "Model: \"sequential_3\"\n",
      "_________________________________________________________________\n",
      "Layer (type)                 Output Shape              Param #   \n",
      "=================================================================\n",
      "dense_6 (Dense)              (None, 20, 20, 16)        64        \n",
      "_________________________________________________________________\n",
      "conv2d_4 (Conv2D)            (None, 20, 20, 32)        4640      \n",
      "_________________________________________________________________\n",
      "conv2d_5 (Conv2D)            (None, 20, 20, 64)        51264     \n",
      "_________________________________________________________________\n",
      "conv2d_6 (Conv2D)            (None, 20, 20, 128)       401536    \n",
      "_________________________________________________________________\n",
      "flatten_2 (Flatten)          (None, 51200)             0         \n",
      "_________________________________________________________________\n",
      "dense_7 (Dense)              (None, 2)                 102402    \n",
      "=================================================================\n",
      "Total params: 559,906\n",
      "Trainable params: 559,906\n",
      "Non-trainable params: 0\n",
      "_________________________________________________________________\n"
     ]
    }
   ],
   "source": [
    "model_valid.summary()"
   ]
  },
  {
   "cell_type": "markdown",
   "metadata": {},
   "source": [
    "## Max pooling"
   ]
  },
  {
   "cell_type": "markdown",
   "metadata": {},
   "source": [
    "This is used for reducing computational loal, overfitting.\n",
    "\n",
    "For this, we must define a matrix size (e.g 2x2) and a stride value (e.g 2). By applying max pooling with those parameter to an image of 28x28 it will return an image of 14x14 where each pixel has the value oh the higher value found in the matrix during the convolution.\n",
    "\n",
    "Of course there are other types of pooling (like average pooling)."
   ]
  },
  {
   "cell_type": "code",
   "execution_count": 11,
   "metadata": {},
   "outputs": [],
   "source": [
    "import keras\n",
    "from keras.models import Sequential\n",
    "from keras.layers import Activation\n",
    "from keras.layers.core import Dense, Flatten\n",
    "from keras.layers.convolutional import *\n",
    "from keras.layers.pooling import *"
   ]
  },
  {
   "cell_type": "code",
   "execution_count": 17,
   "metadata": {},
   "outputs": [],
   "source": [
    "model_valid = Sequential([\n",
    "    Dense(16, activation='relu', input_shape=(20,20,3)),\n",
    "    Conv2D(32, kernel_size=(3, 3), activation='relu', padding='same'),\n",
    "    MaxPooling2D(pool_size=(2, 2), strides=2, padding='valid'),\n",
    "    Conv2D(64, kernel_size=(5, 5), activation='relu', padding='same'),\n",
    "    Flatten(),\n",
    "    Dense(2, activation='softmax'),\n",
    "])"
   ]
  },
  {
   "cell_type": "code",
   "execution_count": 18,
   "metadata": {},
   "outputs": [
    {
     "name": "stdout",
     "output_type": "stream",
     "text": [
      "Model: \"sequential_6\"\n",
      "_________________________________________________________________\n",
      "Layer (type)                 Output Shape              Param #   \n",
      "=================================================================\n",
      "dense_13 (Dense)             (None, 20, 20, 16)        64        \n",
      "_________________________________________________________________\n",
      "conv2d_12 (Conv2D)           (None, 20, 20, 32)        4640      \n",
      "_________________________________________________________________\n",
      "max_pooling2d_3 (MaxPooling2 (None, 10, 10, 32)        0         \n",
      "_________________________________________________________________\n",
      "conv2d_13 (Conv2D)           (None, 10, 10, 64)        51264     \n",
      "_________________________________________________________________\n",
      "flatten_5 (Flatten)          (None, 6400)              0         \n",
      "_________________________________________________________________\n",
      "dense_14 (Dense)             (None, 2)                 12802     \n",
      "=================================================================\n",
      "Total params: 68,770\n",
      "Trainable params: 68,770\n",
      "Non-trainable params: 0\n",
      "_________________________________________________________________\n"
     ]
    }
   ],
   "source": [
    "model_valid.summary()"
   ]
  },
  {
   "cell_type": "markdown",
   "metadata": {},
   "source": [
    "## Forwardpropagation"
   ]
  },
  {
   "cell_type": "markdown",
   "metadata": {},
   "source": [
    "This is the process of moving the data forward through the network."
   ]
  },
  {
   "cell_type": "markdown",
   "metadata": {},
   "source": [
    "## Backpropagation "
   ]
  },
  {
   "cell_type": "markdown",
   "metadata": {},
   "source": [
    "This is the process executed at the end of each forwardpropagation. This is where the derivated of the result is calculated for each weight and applied to the model for the next epoch. The changes applied to the weight is the mean value of all changes required by all train data that were used during the epoch.\n",
    "\n",
    "For a more detailed explication on how backpropagation is working mathematically, please refere to those [videos from deeplizard](https://www.youtube.com/watch?v=xClK__CqZnQ&list=PLZbbT5o_s2xq7LwI2y8_QtvuXZedL6tQU&index=23)."
   ]
  },
  {
   "cell_type": "markdown",
   "metadata": {},
   "source": [
    "## Vanishing & Exploding Gradient Problem"
   ]
  },
  {
   "cell_type": "markdown",
   "metadata": {},
   "source": [
    "Vanishing gradient is the case when the gradient with respect to weight in earlier layers in the network becomes very small which implies very small changes in the weight for early stages (e.g 0.29 to 0.2899999).\n",
    "\n",
    "Exploding gradient probleme is the opposite of the vanishing gradient problem -> the gradient with respect to weight in earlier layers in the network becomes very huge which implies very huge changes in the weight for early stages (e.g 0.29 to 1.87).\n",
    "\n",
    "Those problemes are part a more general problem: instable gradients. See nect section for an example of method that helps avoiding this issues."
   ]
  },
  {
   "cell_type": "markdown",
   "metadata": {},
   "source": [
    "## Weight Initialization"
   ]
  },
  {
   "cell_type": "markdown",
   "metadata": {},
   "source": [
    "At first we initialized our weight with random numbers. But with high numbers of inputs, the variance on the next node can be too high (for 250 inputs -> variance of 250 -> standart derivation of about 16 (sqrt(250))). This means, our activations function (like the sigmoid one) will only change a little as the total input weight will be very large.\n",
    "\n",
    "To avoid this situation we should multiply the initial weight values like this: w = w\\*sqrt(**1**/n) where n is the number of inputs. This is the **Xavier initialization** or **Glorot initialization** and can solve issues like Vanishing or Exploding gradients.\n",
    "\n",
    "If we are using **relu** as activation function (which is highly likely), we should use w = w\\*sqrt(**2**/n). \n",
    "\n",
    "Those initialization proceses occures on a per-Layer basis."
   ]
  },
  {
   "cell_type": "code",
   "execution_count": 19,
   "metadata": {},
   "outputs": [],
   "source": [
    "from keras.models import Sequential\n",
    "from keras.layers import Dense, Activation"
   ]
  },
  {
   "cell_type": "code",
   "execution_count": null,
   "metadata": {},
   "outputs": [],
   "source": [
    "model = Sequential([\n",
    "    Dense(16, input_shape=(1,5), activation='relu'),\n",
    "    Dense(32, activation='relu', kernel_initializer='glorot_uniform'),\n",
    "    Dense(2, activation='softmax')\n",
    "])"
   ]
  },
  {
   "cell_type": "markdown",
   "metadata": {},
   "source": [
    "## Bias"
   ]
  },
  {
   "cell_type": "markdown",
   "metadata": {},
   "source": [
    "* Bias is a per-Neuron basis -> each neuron has a bias.\n",
    "* Biases are learnable -> changes over epoch iterations.\n",
    "* Bias determines if a neuron is activated -> determine whether or not or by how much a neuron will fire. This let us know when a neuron is meaningfully activated.\n",
    "* Bias increases the flexibility of the model.\n",
    "\n",
    "This works by adding to the input signal a value called bias when executing the activation function.\n",
    "\n",
    "\n",
    "For example, in a Dense Layer, a neuron with a 'relu' activation function will not fire if the sum of its input signals are <=0. With a bias of 1 we can make the node fire with values >-1. "
   ]
  },
  {
   "cell_type": "markdown",
   "metadata": {},
   "source": [
    "## Learnable Parameter"
   ]
  },
  {
   "cell_type": "markdown",
   "metadata": {},
   "source": [
    "Those are parameter that are learned by the network during training (like weight and biases). Those are also called _trainable parameters_.\n",
    "\n",
    "To calculate how many learnable parameter there are in one layer we use: inputs\\*outputs+biases. Whis equals weights+biases. Where outputs = number of nodes."
   ]
  },
  {
   "cell_type": "markdown",
   "metadata": {},
   "source": [
    "## Learnable Parameters in a CNN"
   ]
  },
  {
   "cell_type": "markdown",
   "metadata": {},
   "source": [
    "In a convolutional neural network, nodes have more learnable parameters than dense layers as they use **filters** also known as **kernels** or **matrices**.\n",
    "\n",
    "Our total number of learnable parameters:\n",
    "* If previous layer is dense, then input = # of nodes\n",
    "* If previous layer is conv, then input = # of filters\n",
    "* output = (# of filters)\\*(size of filters)\n",
    "* biases = # of filters\n",
    "\n",
    "And we still use: inputs\\*outputs+biases.\n",
    "\n",
    "**Remember:** we must flatten the output of a conv layer when the next layer isn't a conv layer. This means, the next layer will not have # filters as input but image_width\\*image_height*#\\_filters = inputs."
   ]
  },
  {
   "cell_type": "markdown",
   "metadata": {},
   "source": [
    "## Regularization"
   ]
  },
  {
   "cell_type": "markdown",
   "metadata": {},
   "source": [
    "Regularization is a technic that helps reduce overfitting or variance in our network by penalizing for complexity.\n",
    "We are trading ability to fit the training data for the ability to generalize better for data it hasn't seen before.\n",
    "\n",
    "To do this we add a term to our loss function that penalizes for large weights. \n",
    "\n",
    "The most commun regularization technic is called the **L2 Regularization**. \n",
    "\n",
    "If we set our regularization parameter to big a big number, the training will tend to have very small weights to keep the loss as small as possible. By doing this we might force the deactivation of some layers thus simplifying our model."
   ]
  },
  {
   "cell_type": "code",
   "execution_count": 20,
   "metadata": {},
   "outputs": [],
   "source": [
    "import keras\n",
    "from keras import backend as K\n",
    "from keras.models import Sequential\n",
    "from keras.layers import Activation\n",
    "from keras.layers.core import Dense\n",
    "from keras import regularizers"
   ]
  },
  {
   "cell_type": "code",
   "execution_count": 23,
   "metadata": {},
   "outputs": [],
   "source": [
    "model = Sequential([\n",
    "    Dense(16, input_shape=(1,), activation='relu'),\n",
    "    Dense(32, activation='relu', kernel_regularizer=regularizers.l2(0.01)),\n",
    "    Dense(2, activation='sigmoid')\n",
    "])"
   ]
  },
  {
   "cell_type": "markdown",
   "metadata": {},
   "source": [
    "## Batch size"
   ]
  },
  {
   "cell_type": "markdown",
   "metadata": {},
   "source": [
    "The batch size is the number of samples that will be passed through the network at one time. Also know as **mini-batch**.\n",
    "\n",
    "For example, with 1000 images, and a batch of 10, we would need 100 to make a full epoch.\n",
    "Generally: the larger the batches, the faster the training but quality of the model may degrade.\n",
    "\n",
    "The batch size is another hyper parameters."
   ]
  },
  {
   "cell_type": "code",
   "execution_count": 24,
   "metadata": {},
   "outputs": [],
   "source": [
    "import keras\n",
    "from keras import backend as K\n",
    "from keras.models import Sequential\n",
    "from keras.layers import Activation\n",
    "from keras.layers.core import Dense\n",
    "from keras.optimizers import Adam\n",
    "from keras import regularizers"
   ]
  },
  {
   "cell_type": "code",
   "execution_count": 25,
   "metadata": {},
   "outputs": [],
   "source": [
    "model = Sequential([\n",
    "    Dense(16, input_shape=(1,), activation='relu'),\n",
    "    Dense(32, activation='relu', kernel_regularizer=regularizers.l2(0.01)),\n",
    "    Dense(2, activation='sigmoid')\n",
    "])"
   ]
  },
  {
   "cell_type": "code",
   "execution_count": null,
   "metadata": {},
   "outputs": [],
   "source": [
    "model.fit(scalled_train_samples, train_labels, validation_data=valid_set, batch_size=10, epochs=20, shuffle=True, verbose=2)"
   ]
  },
  {
   "cell_type": "markdown",
   "metadata": {},
   "source": [
    "## Fine-tuning"
   ]
  },
  {
   "cell_type": "markdown",
   "metadata": {},
   "source": [
    "Very closely linked with the term **Transfer Learning** which occures when we use knowledge that was gained from solving one problem and then apply it to a new related problem.\n",
    "\n",
    "Fine-tuning is a process that takes a model that has already been trained for a given task and then tuning the model to make it perform for a second task assuming the original task is similar to the new task. Using an ANN that has already been trained allows us to take advantage of what the model has already learned without starting from scratch."
   ]
  },
  {
   "cell_type": "markdown",
   "metadata": {},
   "source": [
    "## Batch Normalization (batch norm)"
   ]
  },
  {
   "cell_type": "markdown",
   "metadata": {},
   "source": [
    "When training a neural network, we wnat to _normalize_ or _standardize_ our data as part of the pre-processing step.\n",
    "\n",
    "A typical normalization process would be to scale data that are between 10 and 1000 to a range of 0 to 1.\n",
    "A typical standardization process would be to subscract the mean of the dataset to the data point and then divide it by the standard deviation of the dataset. This forces the standardized data to take on a mean of zero and a standard deviation of 1.\n",
    "\n",
    "By using unnormalized/unbalanced data we expose our network to issues like exploding gradiant and it can reduce the training speed.\n",
    "\n",
    "We can also apply batch normalization to layers. The first thing done is normalizing the output of the activation function:\n",
    "1. Normalize output from activation function: z = (x-m)/s\n",
    "2. Multiply normalized output by arbitrary parameter g: z\\*g\n",
    "3. Add arbitraty parameter b to resulting product: (z\\*g)+b\n",
    "\n",
    "All those parameters (m,s,g,b) are trainable parameters since the normalization is included in the gradient process.\n",
    "\n",
    "Those batch normalizations occures on a **per-batch basis**."
   ]
  },
  {
   "cell_type": "code",
   "execution_count": 26,
   "metadata": {},
   "outputs": [],
   "source": [
    "import keras\n",
    "from keras import backend as K\n",
    "from keras.models import Sequential\n",
    "from keras.layers import Dense, Activation, BatchNormalization"
   ]
  },
  {
   "cell_type": "code",
   "execution_count": 27,
   "metadata": {},
   "outputs": [],
   "source": [
    "model = Sequential([\n",
    "    Dense(16, input_shape=(1,5), activation='relu'),\n",
    "    Dense(32, activation='relu'),\n",
    "    BatchNormalization(axis=1),\n",
    "    Dense(2, activation='sigmoid')\n",
    "])"
   ]
  },
  {
   "cell_type": "code",
   "execution_count": null,
   "metadata": {},
   "outputs": [],
   "source": [
    "# Optional parameters that can be added:\n",
    "#   - beta_initializer: Initializer for the beta weight.\n",
    "#   - gamme_initializer: Initializer for the gama weight."
   ]
  }
 ],
 "metadata": {
  "kernelspec": {
   "display_name": "Python 3",
   "language": "python",
   "name": "python3"
  },
  "language_info": {
   "codemirror_mode": {
    "name": "ipython",
    "version": 3
   },
   "file_extension": ".py",
   "mimetype": "text/x-python",
   "name": "python",
   "nbconvert_exporter": "python",
   "pygments_lexer": "ipython3",
   "version": "3.7.7"
  }
 },
 "nbformat": 4,
 "nbformat_minor": 4
}
