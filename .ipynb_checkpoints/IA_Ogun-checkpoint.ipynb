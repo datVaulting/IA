{
 "cells": [
  {
   "cell_type": "code",
   "execution_count": 1,
   "metadata": {},
   "outputs": [
    {
     "name": "stderr",
     "output_type": "stream",
     "text": [
      "Using TensorFlow backend.\n"
     ]
    }
   ],
   "source": [
    "# making all the imports for the project\n",
    "import numpy as np\n",
    "import matplotlib.pyplot as plt\n",
    "import os\n",
    "from PIL import Image\n",
    "\n",
    "# Keras Librairies\n",
    "import keras\n",
    "from keras.models import Sequential\n",
    "from keras.layers import Conv2D\n",
    "from keras.layers import MaxPooling2D\n",
    "from keras.layers import Flatten\n",
    "from keras.layers import Dense\n",
    "from keras.optimizers import Adam\n",
    "from keras.preprocessing.image import ImageDataGenerator, load_img"
   ]
  },
  {
   "cell_type": "code",
   "execution_count": 2,
   "metadata": {},
   "outputs": [],
   "source": [
    "train_folder='./chest_Xray/train/'\n",
    "val_folder='./chest_Xray/val/'\n",
    "test_folder='./chest_Xray/test/'"
   ]
  },
  {
   "cell_type": "code",
   "execution_count": 3,
   "metadata": {},
   "outputs": [],
   "source": [
    "# train\n",
    "os.listdir(train_folder)\n",
    "train_n = train_folder + 'NORMAL/'\n",
    "train_p = train_folder + 'PNEUMONIA/'"
   ]
  },
  {
   "cell_type": "code",
   "execution_count": 4,
   "metadata": {},
   "outputs": [],
   "source": [
    "# CNN Model building\n",
    "\n",
    "cnn = Sequential()\n",
    "\n",
    "# Convolution\n",
    "cnn.add(Conv2D(32, (3,3), activation=\"relu\", input_shape=(64,64,3)))\n",
    "\n",
    "# Pooling\n",
    "cnn.add(MaxPooling2D(pool_size = (2,2)))\n",
    "\n",
    "# 2nd Convolution\n",
    "cnn.add(Conv2D(32, (3,3), activation=\"relu\"))\n",
    "\n",
    "# 2 Pooling layer\n",
    "cnn.add(MaxPooling2D(pool_size=(2,2)))\n",
    "\n",
    "# Flatten the layer\n",
    "cnn.add(Flatten())\n",
    "\n",
    "# Fully Connected Layers\n",
    "cnn.add(Dense(activation=\"relu\", units=128))\n",
    "cnn.add(Dense(activation=\"sigmoid\", units=1))\n",
    "\n",
    "# Compile the NN\n",
    "cnn.compile(Adam(), loss=\"binary_crossentropy\", metrics=[\"accuracy\"])"
   ]
  },
  {
   "cell_type": "code",
   "execution_count": 5,
   "metadata": {},
   "outputs": [
    {
     "name": "stdout",
     "output_type": "stream",
     "text": [
      "Found 5216 images belonging to 2 classes.\n",
      "Found 16 images belonging to 2 classes.\n",
      "Found 624 images belonging to 2 classes.\n"
     ]
    }
   ],
   "source": [
    "# Fitting the CNN to the images and augmenting images\n",
    "\n",
    "train_datagen = ImageDataGenerator(rescale = 1./255,\n",
    "                                  shear_range=0.2,\n",
    "                                  zoom_range=0.2,\n",
    "                                  horizontal_flip= True)\n",
    "\n",
    "test_datagen = ImageDataGenerator(rescale=1./255) # Image normalization\n",
    "\n",
    "training_set = train_datagen.flow_from_directory(train_folder,\n",
    "                                                target_size=(64,64),\n",
    "                                                batch_size = 10,\n",
    "                                                class_mode = \"binary\")\n",
    "\n",
    "validation_generator = test_datagen.flow_from_directory(val_folder,\n",
    "                                                       target_size=(64,64),\n",
    "                                                       batch_size=10,\n",
    "                                                       class_mode=\"binary\")\n",
    "\n",
    "test_set = test_datagen.flow_from_directory(test_folder,\n",
    "                                           target_size = (64,64),\n",
    "                                           batch_size = 10,\n",
    "                                           class_mode = \"binary\")"
   ]
  },
  {
   "cell_type": "code",
   "execution_count": 6,
   "metadata": {},
   "outputs": [
    {
     "name": "stdout",
     "output_type": "stream",
     "text": [
      "Model: \"sequential_1\"\n",
      "_________________________________________________________________\n",
      "Layer (type)                 Output Shape              Param #   \n",
      "=================================================================\n",
      "conv2d_1 (Conv2D)            (None, 62, 62, 32)        896       \n",
      "_________________________________________________________________\n",
      "max_pooling2d_1 (MaxPooling2 (None, 31, 31, 32)        0         \n",
      "_________________________________________________________________\n",
      "conv2d_2 (Conv2D)            (None, 29, 29, 32)        9248      \n",
      "_________________________________________________________________\n",
      "max_pooling2d_2 (MaxPooling2 (None, 14, 14, 32)        0         \n",
      "_________________________________________________________________\n",
      "flatten_1 (Flatten)          (None, 6272)              0         \n",
      "_________________________________________________________________\n",
      "dense_1 (Dense)              (None, 128)               802944    \n",
      "_________________________________________________________________\n",
      "dense_2 (Dense)              (None, 1)                 129       \n",
      "=================================================================\n",
      "Total params: 813,217\n",
      "Trainable params: 813,217\n",
      "Non-trainable params: 0\n",
      "_________________________________________________________________\n"
     ]
    }
   ],
   "source": [
    "cnn.summary()"
   ]
  },
  {
   "cell_type": "code",
   "execution_count": 7,
   "metadata": {},
   "outputs": [
    {
     "name": "stdout",
     "output_type": "stream",
     "text": [
      "Epoch 1/10\n",
      "261/261 [==============================] - 59s 224ms/step - loss: 0.3417 - accuracy: 0.8485 - val_loss: 0.6970 - val_accuracy: 0.6875\n",
      "Epoch 2/10\n",
      "261/261 [==============================] - 61s 235ms/step - loss: 0.2370 - accuracy: 0.9005 - val_loss: 0.3981 - val_accuracy: 0.7500\n",
      "Epoch 3/10\n",
      "261/261 [==============================] - 73s 279ms/step - loss: 0.1945 - accuracy: 0.9241 - val_loss: 0.9190 - val_accuracy: 0.6875\n",
      "Epoch 4/10\n",
      "261/261 [==============================] - 73s 281ms/step - loss: 0.1764 - accuracy: 0.9323 - val_loss: 0.3455 - val_accuracy: 0.8750\n",
      "Epoch 5/10\n",
      "261/261 [==============================] - 72s 277ms/step - loss: 0.1789 - accuracy: 0.9310 - val_loss: 0.1562 - val_accuracy: 0.7500\n",
      "Epoch 6/10\n",
      "261/261 [==============================] - 72s 276ms/step - loss: 0.1588 - accuracy: 0.9398 - val_loss: 0.3863 - val_accuracy: 0.9375\n",
      "Epoch 7/10\n",
      "261/261 [==============================] - 74s 282ms/step - loss: 0.1530 - accuracy: 0.9425 - val_loss: 0.6691 - val_accuracy: 0.7500\n",
      "Epoch 8/10\n",
      "261/261 [==============================] - 112s 431ms/step - loss: 0.1476 - accuracy: 0.9456 - val_loss: 0.4020 - val_accuracy: 0.7500\n",
      "Epoch 9/10\n",
      "261/261 [==============================] - 133s 510ms/step - loss: 0.1433 - accuracy: 0.9463 - val_loss: 0.5395 - val_accuracy: 0.6250\n",
      "Epoch 10/10\n",
      "261/261 [==============================] - 133s 509ms/step - loss: 0.1298 - accuracy: 0.9507 - val_loss: 0.4183 - val_accuracy: 0.9375\n"
     ]
    }
   ],
   "source": [
    "cnn_model = cnn.fit_generator(training_set,\n",
    "                             epochs=5,\n",
    "                             validation_data = validation_generator)"
   ]
  },
  {
   "cell_type": "code",
   "execution_count": 8,
   "metadata": {},
   "outputs": [],
   "source": [
    "test_accu = cnn.evaluate_generator(test_set)"
   ]
  },
  {
   "cell_type": "code",
   "execution_count": 9,
   "metadata": {},
   "outputs": [
    {
     "name": "stdout",
     "output_type": "stream",
     "text": [
      "Testing accuracy is : 90.70512652397156 %\n"
     ]
    }
   ],
   "source": [
    "print(\"Testing accuracy is :\", test_accu[1]*100, '%')"
   ]
  },
  {
   "cell_type": "code",
   "execution_count": 10,
   "metadata": {},
   "outputs": [
    {
     "data": {
      "image/png": "[encoded data removed]",
      "text/plain": [
       "<Figure size 432x288 with 1 Axes>"
      ]
     },
     "metadata": {
      "needs_background": "light"
     },
     "output_type": "display_data"
    }
   ],
   "source": [
    "# Accuracy\n",
    "plt.plot(cnn_model.history['accuracy'])\n",
    "plt.plot(cnn_model.history['val_accuracy'])\n",
    "plt.title('Model Accuracy')\n",
    "plt.ylabel('Accuracy')\n",
    "plt.xlabel('Epoch')\n",
    "plt.legend(['Training set', 'Validation set'], loc='upper left')\n",
    "plt.show()"
   ]
  },
  {
   "cell_type": "code",
   "execution_count": 11,
   "metadata": {},
   "outputs": [
    {
     "data": {
      "image/png": "[encoded data removed]",
      "text/plain": [
       "<Figure size 432x288 with 1 Axes>"
      ]
     },
     "metadata": {
      "needs_background": "light"
     },
     "output_type": "display_data"
    }
   ],
   "source": [
    "# Loss\n",
    "plt.plot(cnn_model.history['val_loss'])\n",
    "plt.plot(cnn_model.history['loss'])\n",
    "plt.title('Model Loss')\n",
    "plt.ylabel('Loss')\n",
    "plt.xlabel('Epoch')\n",
    "plt.legend(['Training set', 'Test set'], loc='upper left')\n",
    "plt.show()"
   ]
  }
 ],
 "metadata": {
  "kernelspec": {
   "display_name": "Python 3",
   "language": "python",
   "name": "python3"
  },
  "language_info": {
   "codemirror_mode": {
    "name": "ipython",
    "version": 3
   },
   "file_extension": ".py",
   "mimetype": "text/x-python",
   "name": "python",
   "nbconvert_exporter": "python",
   "pygments_lexer": "ipython3",
   "version": "3.7.7"
  }
 },
 "nbformat": 4,
 "nbformat_minor": 4
}
